{
 "cells": [
  {
   "cell_type": "code",
   "execution_count": 3,
   "metadata": {
    "collapsed": true
   },
   "outputs": [],
   "source": [
    "import pandas as pd\n",
    "import numpy"
   ]
  },
  {
   "cell_type": "code",
   "execution_count": 5,
   "metadata": {},
   "outputs": [
    {
     "name": "stderr",
     "output_type": "stream",
     "text": [
      "b'Skipping line 41589: expected 4 fields, saw 11\\nSkipping line 51628: expected 4 fields, saw 7\\nSkipping line 114465: expected 4 fields, saw 5\\n'\n",
      "b'Skipping line 142496: expected 4 fields, saw 8\\nSkipping line 189732: expected 4 fields, saw 6\\nSkipping line 245218: expected 4 fields, saw 7\\n'\n",
      "b'Skipping line 388430: expected 4 fields, saw 5\\n'\n",
      "C:\\Users\\Abhijeet\\Anaconda3\\lib\\site-packages\\IPython\\core\\interactiveshell.py:2717: DtypeWarning: Columns (2,3) have mixed types. Specify dtype option on import or set low_memory=False.\n",
      "  interactivity=interactivity, compiler=compiler, result=result)\n"
     ]
    }
   ],
   "source": [
    "us_comments=pd.read_csv(\"./UScomments.csv\",error_bad_lines=False)"
   ]
  },
  {
   "cell_type": "code",
   "execution_count": 6,
   "metadata": {},
   "outputs": [
    {
     "data": {
      "text/html": [
       "<div>\n",
       "<style>\n",
       "    .dataframe thead tr:only-child th {\n",
       "        text-align: right;\n",
       "    }\n",
       "\n",
       "    .dataframe thead th {\n",
       "        text-align: left;\n",
       "    }\n",
       "\n",
       "    .dataframe tbody tr th {\n",
       "        vertical-align: top;\n",
       "    }\n",
       "</style>\n",
       "<table border=\"1\" class=\"dataframe\">\n",
       "  <thead>\n",
       "    <tr style=\"text-align: right;\">\n",
       "      <th></th>\n",
       "      <th>video_id</th>\n",
       "      <th>comment_text</th>\n",
       "      <th>likes</th>\n",
       "      <th>replies</th>\n",
       "    </tr>\n",
       "  </thead>\n",
       "  <tbody>\n",
       "    <tr>\n",
       "      <th>0</th>\n",
       "      <td>XpVt6Z1Gjjo</td>\n",
       "      <td>Logan Paul it's yo big day ‼️‼️‼️</td>\n",
       "      <td>4</td>\n",
       "      <td>0</td>\n",
       "    </tr>\n",
       "    <tr>\n",
       "      <th>1</th>\n",
       "      <td>XpVt6Z1Gjjo</td>\n",
       "      <td>I've been following you from the start of your...</td>\n",
       "      <td>3</td>\n",
       "      <td>0</td>\n",
       "    </tr>\n",
       "    <tr>\n",
       "      <th>2</th>\n",
       "      <td>XpVt6Z1Gjjo</td>\n",
       "      <td>Say hi to Kong and maverick for me</td>\n",
       "      <td>3</td>\n",
       "      <td>0</td>\n",
       "    </tr>\n",
       "    <tr>\n",
       "      <th>3</th>\n",
       "      <td>XpVt6Z1Gjjo</td>\n",
       "      <td>MY FAN . attendance</td>\n",
       "      <td>3</td>\n",
       "      <td>0</td>\n",
       "    </tr>\n",
       "    <tr>\n",
       "      <th>4</th>\n",
       "      <td>XpVt6Z1Gjjo</td>\n",
       "      <td>trending 😉</td>\n",
       "      <td>3</td>\n",
       "      <td>0</td>\n",
       "    </tr>\n",
       "  </tbody>\n",
       "</table>\n",
       "</div>"
      ],
      "text/plain": [
       "      video_id                                       comment_text likes  \\\n",
       "0  XpVt6Z1Gjjo                  Logan Paul it's yo big day ‼️‼️‼️     4   \n",
       "1  XpVt6Z1Gjjo  I've been following you from the start of your...     3   \n",
       "2  XpVt6Z1Gjjo                 Say hi to Kong and maverick for me     3   \n",
       "3  XpVt6Z1Gjjo                                MY FAN . attendance     3   \n",
       "4  XpVt6Z1Gjjo                                         trending 😉     3   \n",
       "\n",
       "  replies  \n",
       "0       0  \n",
       "1       0  \n",
       "2       0  \n",
       "3       0  \n",
       "4       0  "
      ]
     },
     "execution_count": 6,
     "metadata": {},
     "output_type": "execute_result"
    }
   ],
   "source": [
    "us_comments.head()"
   ]
  },
  {
   "cell_type": "code",
   "execution_count": 9,
   "metadata": {},
   "outputs": [
    {
     "data": {
      "text/plain": [
       "4X6a3G_0HjY    800\n",
       "LunHybOKIjU    800\n",
       "sjlHnJvXdQs    800\n",
       "Hlt3rA-oDao    800\n",
       "WYYvHb03Eog    800\n",
       "CYoRmfI0LUc    800\n",
       "XpVt6Z1Gjjo    800\n",
       "cLdxuaxaQwc    799\n",
       "Oo0NJsr5m4I    793\n",
       "zcqZHYo7ONs    700\n",
       "Xul7ku1XxRY    700\n",
       "1L7JFN7tQLs    700\n",
       "CwLGro-dFWg    700\n",
       "bvomHFZO0mk    700\n",
       "APHgDFRpCi0    700\n",
       "cMKX2tE5Luk    700\n",
       "CsdzflTXBVQ    700\n",
       "4MkC65emkG4    700\n",
       "odhMmAPDc54    700\n",
       "mlxdnyfkWKQ    700\n",
       "F4ELqraXx-U    700\n",
       "SHq2qrFUlGY    700\n",
       "etmUU1bs41s    700\n",
       "zgLtEob6X-Q    700\n",
       "xHvVhhFvLtY    700\n",
       "j5YSOabmFgw    700\n",
       "UXdbCReBTR8    700\n",
       "M16CGK1T9MM    700\n",
       "zKriLekFPwg    700\n",
       "OlI8r3nNUVw    700\n",
       "              ... \n",
       "8I0pqPWfjWU      3\n",
       "Fzt75I_Zi14      3\n",
       "dsH83p_mfEs      3\n",
       "UejIDD3lhEA      3\n",
       "ntw32kYDryM      3\n",
       "CEdAjI801Wo      3\n",
       "7Z14Rc1vR7U      3\n",
       "HFXwHcFyU_M      3\n",
       "BNRUV3TuExQ      3\n",
       "rBs4AGCR3yU      3\n",
       "BfxOimRxXvU      2\n",
       "jzr49a04olU      2\n",
       "zuKX0fPlo2Q      2\n",
       "U69QBI6MK_A      2\n",
       "k8LF_FU2luY      2\n",
       "p7sooI96zPI      2\n",
       "eLhPdGZaotQ      2\n",
       "Oz88_p125uM      2\n",
       "S-a8NVEUO4E      2\n",
       "KQ19fT4BQQU      2\n",
       "W2gnef0LtBE      2\n",
       "s51nDk3bEOg      2\n",
       "tbDr_zAcM5g      2\n",
       "wBjAmThxDpA      2\n",
       "c5RsAXsZvI8      1\n",
       "94U8bow4CU4      1\n",
       "jLa9wZHiqxg      1\n",
       "mi52IqpOp54      1\n",
       "HjfN2Phsfng      1\n",
       "mShBE_wHAk8      1\n",
       "Name: video_id, Length: 2266, dtype: int64"
      ]
     },
     "execution_count": 9,
     "metadata": {},
     "output_type": "execute_result"
    }
   ],
   "source": [
    "us_comments['video_id'].value_counts()"
   ]
  },
  {
   "cell_type": "code",
   "execution_count": null,
   "metadata": {
    "collapsed": true
   },
   "outputs": [],
   "source": []
  }
 ],
 "metadata": {
  "kernelspec": {
   "display_name": "Python 3",
   "language": "python",
   "name": "python3"
  },
  "language_info": {
   "codemirror_mode": {
    "name": "ipython",
    "version": 3
   },
   "file_extension": ".py",
   "mimetype": "text/x-python",
   "name": "python",
   "nbconvert_exporter": "python",
   "pygments_lexer": "ipython3",
   "version": "3.8.3"
  }
 },
 "nbformat": 4,
 "nbformat_minor": 2
}
